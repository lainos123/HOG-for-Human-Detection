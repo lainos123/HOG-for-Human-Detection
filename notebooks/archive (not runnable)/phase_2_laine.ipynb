{
 "cells": [
  {
   "cell_type": "markdown",
   "metadata": {},
   "source": [
    "# Phase 2: Feature Extraction and SVM Training"
   ]
  },
  {
   "cell_type": "code",
   "execution_count": 17,
   "metadata": {},
   "outputs": [],
   "source": [
    "import math\n",
    "import numpy as np\n",
    "import cv2\n",
    "import matplotlib.pyplot as plt\n",
    "from pathlib import Path\n",
    "from skimage import io, color\n",
    "from scipy import ndimage\n",
    "from PIL import ImageTk, Image\n",
    "import joblib\n",
    "import os\n",
    "import random\n",
    "from skimage.feature import hog\n",
    "from sklearn.svm import LinearSVC, SVC\n",
    "from sklearn.model_selection import train_test_split\n",
    "from sklearn.metrics import det_curve\n",
    "from sklearn.metrics import accuracy_score, precision_score, recall_score\n",
    "from sklearn.metrics import RocCurveDisplay, confusion_matrix, DetCurveDisplay\n",
    "from sklearn.metrics.pairwise import cosine_similarity"
   ]
  },
  {
   "cell_type": "code",
   "execution_count": 4,
   "metadata": {},
   "outputs": [],
   "source": [
    "def compute_grad(np_image, filter_ = \"default\" ):\n",
    "    image=np.float32(np_image) \n",
    "    #Here designed 3 different kernels for ablation study.\n",
    "    if filter_ == \"Sobel\":\n",
    "        kernel_x=np.array([[-1, 0, 1],\n",
    "                           [-2, 0, 2],\n",
    "                           [-1, 0, 1]], dtype=np.float32)\n",
    "        kernel_y=np.array([[-1, -2, -1],\n",
    "                           [ 0,  0,  0],\n",
    "                           [ 1,  2,  1]], dtype=np.float32)\n",
    "    elif filter_ == \"Prewitt\":\n",
    "        kernel_x = np.array([[-1, 0, 1],\n",
    "                             [-1, 0, 1],\n",
    "                             [-1, 0, 1]], dtype=np.float32)\n",
    "        kernel_y = np.array([[-1, -1, -1],\n",
    "                             [ 0,  0,  0],\n",
    "                             [ 1,  1,  1]], dtype=np.float32)     \n",
    "    else:\n",
    "        kernel_x = np.array([[-1, 0, 1]], dtype=np.float32) #use [-1,0,1] filter without smoothing as required in default settings\n",
    "        kernel_y = np.array([[-1],\n",
    "                             [0], \n",
    "                             [1]], dtype=np.float32) #use [-1,0,1] filter without smoothing as required \n",
    "    grad_x = cv2.filter2D(image, -1, kernel_x) #filter applied on x direction\n",
    "    grad_y = cv2.filter2D(image, -1, kernel_y) #filter applied on y direction\n",
    "    \n",
    "    mag, ang = cv2.cartToPolar(grad_x, grad_y, angleInDegrees = True) #use CV2's cartToPolar to get magtitude and angel (in 360 degree)\n",
    "    #based on the documentation found on the CV2 webpage: The angles are calculated with accuracy about 0.3 degrees. \n",
    "    #https://docs.opencv.org/3.0-beta/modules/core/doc/operations_on_arrays.html#carttopolar \n",
    "    return mag, ang"
   ]
  },
  {
   "cell_type": "code",
   "execution_count": 5,
   "metadata": {},
   "outputs": [],
   "source": [
    "def compute_histogram(mag_cell, ang_cell, num_bins=9, angle_ = 180):\n",
    "    bin_size = angle_ // num_bins # Oritation Bin (change for Ablation Study)\n",
    "    histogram = np.zeros(num_bins) # create a container for histogram\n",
    "    for i in range(mag_cell.shape[0]): #iterate each mag and ang cell then put in the correct bin for histogram\n",
    "        for j in range(mag_cell.shape[1]):\n",
    "            mag = mag_cell[i, j]  \n",
    "            if angle_ == 180: # (change for Ablation Study)\n",
    "                ang = ang_cell[i, j]\n",
    "                ang = ang % 180 #convert 360 degree to 180 degree, from signed angle to un-signed angle\n",
    "            else:\n",
    "                ang = ang_cell[i, j]\n",
    "            bin_ = int(ang // bin_size) % num_bins\n",
    "            histogram[bin_] += mag  #put gradient value into oritation bin\n",
    "    return histogram"
   ]
  },
  {
   "cell_type": "code",
   "execution_count": 7,
   "metadata": {},
   "outputs": [],
   "source": [
    "def compute_hog(image, cell_size=8, block_size=16, num_bins=9, block_stride = 1,filter_ = \"default\", angle_ = 180 ): #(Change Settings for Ablation Study)\n",
    "    \n",
    "    height, width = image.shape\n",
    "    mag, ang = compute_grad(image,filter_ )\n",
    "    number_of_Xcells = width // cell_size #how many cells in X \n",
    "    number_of_Ycells = height // cell_size #how many cells in Y\n",
    "\n",
    "    cell_histograms = np.zeros((number_of_Ycells, number_of_Xcells, num_bins)) \n",
    "\n",
    "    for y in range(number_of_Ycells):\n",
    "        for x in range(number_of_Xcells):\n",
    "            y1 = y * cell_size  #Starting Index of Y\n",
    "            y2 = y1 + cell_size #Ending Index of Y\n",
    "            x1 = x * cell_size  #Starting Index of X\n",
    "            x2 = x1 + cell_size #Ending Index of X\n",
    "\n",
    "            mag_cell = mag[y1:y2, x1:x2] #extract correct section of magtitude \n",
    "            ang_cell = ang[y1:y2, x1:x2] #extract correct section of angel\n",
    "\n",
    "            cell_histograms[y, x, :] = compute_histogram(mag_cell, ang_cell, num_bins, angle_) #put result into the cell_histograms\n",
    "\n",
    "    block_number = block_size // cell_size\n",
    "    block_hist = []\n",
    "    #sliding blocks on Y and X, here I've added step size, if cell size is 8, block size is 32, I can slide cell by cell \n",
    "    #or every second cell for the block nomalisation \n",
    "    for y in range(0, number_of_Ycells - block_number + 1, block_stride): \n",
    "        for x in range(0, number_of_Xcells - block_number + 1, block_stride):\n",
    "            block = cell_histograms[y:y+block_number, x:x+block_number, :].flatten() #flatten into one vector\n",
    "            eps = 1e-5 #to avoid divided by zero. \n",
    "            block_norm_1 = block / (np.linalg.norm(block) + eps)  #First normalisaiton\n",
    "            block_norm_1 = np.clip(block_norm_1, 0, 0.2)  #Clip Lowe-style , mentioned in paper : Lowe's Scale Invariant Feature Transformation (SIFT)\n",
    "            block_norm_2 = block_norm_1 / (np.linalg.norm(block_norm_1) + eps) #Second normalisation\n",
    "            block_hist.append(block_norm_2) \n",
    "\n",
    "    return np.concatenate(block_hist)"
   ]
  },
  {
   "cell_type": "markdown",
   "metadata": {},
   "source": [
    "##### Ready to test an image"
   ]
  },
  {
   "cell_type": "code",
   "execution_count": 8,
   "metadata": {},
   "outputs": [],
   "source": [
    "original_image = Image.open(\"../Dataset/non_human_v2_train/crop_000002_R1.jpg\")\n",
    "np_image = np.array(original_image.convert('L'))\n",
    "np_image=np.float32(np_image)"
   ]
  },
  {
   "cell_type": "code",
   "execution_count": 9,
   "metadata": {},
   "outputs": [
    {
     "data": {
      "text/plain": [
       "array([0.02685909, 0.02479255, 0.15029126, ..., 0.06479355, 0.        ,\n",
       "       0.        ])"
      ]
     },
     "execution_count": 9,
     "metadata": {},
     "output_type": "execute_result"
    }
   ],
   "source": [
    "features_selfwritten = compute_hog(np_image, cell_size=8, block_size=16, num_bins=9, block_stride = 1,filter_ = \"default\", angle_ = 180)\n",
    "features_selfwritten"
   ]
  },
  {
   "cell_type": "markdown",
   "metadata": {},
   "source": [
    "Using the skimage package"
   ]
  },
  {
   "cell_type": "code",
   "execution_count": 10,
   "metadata": {},
   "outputs": [
    {
     "data": {
      "text/plain": [
       "array([0.02685945, 0.02479289, 0.15029332, ..., 0.0647947 , 0.        ,\n",
       "       0.        ], dtype=float32)"
      ]
     },
     "execution_count": 10,
     "metadata": {},
     "output_type": "execute_result"
    }
   ],
   "source": [
    "features = hog(\n",
    "    np_image,\n",
    "    orientations=9,\n",
    "    pixels_per_cell=(8, 8),\n",
    "    cells_per_block=(2, 2),\n",
    "    block_norm='L2-Hys',\n",
    "    transform_sqrt=False,  # no gamma correction\n",
    "    visualize=False,\n",
    "    feature_vector=True\n",
    ")\n",
    "features"
   ]
  },
  {
   "cell_type": "markdown",
   "metadata": {},
   "source": [
    "### Extract HOG on Training set"
   ]
  },
  {
   "cell_type": "code",
   "execution_count": 15,
   "metadata": {},
   "outputs": [
    {
     "name": "stdout",
     "output_type": "stream",
     "text": [
      "Extracting HOG features from human images...\n",
      "Extracting HOG features from non-human images...\n",
      "Training data shape: (499, 3780)\n",
      "Training labels shape: (499,)\n",
      "Number of human samples: 249\n",
      "Number of non-human samples: 250\n"
     ]
    }
   ],
   "source": [
    "def load_and_extract_hog_features(image_paths, compute_hog):\n",
    "    \"\"\"\n",
    "    Load images and extract HOG features for a list of image paths.\n",
    "    \n",
    "    Args:\n",
    "        image_paths (list): List of paths to images\n",
    "        compute_hog (function): Function to compute HOG features\n",
    "        \n",
    "    Returns:\n",
    "        numpy.ndarray: Array of HOG features\n",
    "    \"\"\"\n",
    "    features = []\n",
    "    for img_path in image_paths:\n",
    "        # Read image and convert to grayscale\n",
    "        img = cv2.imread(str(img_path))\n",
    "        if img is not None:\n",
    "            gray = cv2.cvtColor(img, cv2.COLOR_BGR2GRAY)\n",
    "            hog_features = compute_hog(gray)\n",
    "            features.append(hog_features)\n",
    "    return np.array(features)\n",
    "\n",
    "# Set random seed for reproducibility\n",
    "random.seed(42)\n",
    "\n",
    "# Define paths\n",
    "human_train_path = Path(\"../Dataset/human_training\")\n",
    "non_human_train_path = Path(\"../Dataset/non_human_v2_train\")\n",
    "\n",
    "# Get all image files\n",
    "human_images = list(human_train_path.glob(\"*\"))\n",
    "non_human_images = list(non_human_train_path.glob(\"*\"))\n",
    "\n",
    "# Randomly select 250 images from each class\n",
    "selected_human = random.sample(human_images, min(250, len(human_images)))\n",
    "selected_non_human = random.sample(non_human_images, min(250, len(non_human_images)))\n",
    "\n",
    "# Extract HOG features\n",
    "print(\"Extracting HOG features from human images...\")\n",
    "human_features = load_and_extract_hog_features(selected_human, compute_hog)\n",
    "\n",
    "print(\"Extracting HOG features from non-human images...\")\n",
    "non_human_features = load_and_extract_hog_features(selected_non_human, compute_hog)\n",
    "\n",
    "# Create labels (1 for human, 0 for non-human)\n",
    "human_labels = np.ones(len(human_features))\n",
    "non_human_labels = np.zeros(len(non_human_features))\n",
    "\n",
    "# Combine features and labels\n",
    "X_train = np.vstack([human_features, non_human_features])\n",
    "y_train = np.concatenate([human_labels, non_human_labels])\n",
    "\n",
    "print(f\"Training data shape: {X_train.shape}\")\n",
    "print(f\"Training labels shape: {y_train.shape}\")\n",
    "print(f\"Number of human samples: {len(human_features)}\")\n",
    "print(f\"Number of non-human samples: {len(non_human_features)}\")\n",
    "\n",
    "\n",
    "# Save the processed data\n",
    "np.save(\"../Dataset/X_train.npy\", X_train)\n",
    "np.save(\"../Dataset/y_train.npy\", y_train)"
   ]
  },
  {
   "cell_type": "markdown",
   "metadata": {},
   "source": [
    "### Train SVM (using extracted HOG)"
   ]
  },
  {
   "cell_type": "code",
   "execution_count": 18,
   "metadata": {},
   "outputs": [
    {
     "name": "stdout",
     "output_type": "stream",
     "text": [
      "Training SVM classifier...\n",
      "\n",
      "Training accuracy: 1.0000\n",
      "\n",
      "Model saved to: ../Dataset/svm_hog_classifier.joblib\n",
      "\n",
      "Model parameters:\n",
      "C (regularization parameter): 1.0\n",
      "Number of features: 3780\n",
      "Number of classes: 2\n"
     ]
    }
   ],
   "source": [
    "# Load the training data\n",
    "X_train = np.load(\"../Dataset/X_train.npy\")\n",
    "y_train = np.load(\"../Dataset/y_train.npy\")\n",
    "\n",
    "# Initialize and train the SVM classifier\n",
    "print(\"Training SVM classifier...\")\n",
    "svm_classifier = LinearSVC(\n",
    "    C=1.0,  # Regularization parameter\n",
    "    max_iter=10000,  # Maximum number of iterations\n",
    "    random_state=42\n",
    ")\n",
    "\n",
    "# Train the classifier\n",
    "svm_classifier.fit(X_train, y_train)\n",
    "\n",
    "# Print training accuracy\n",
    "train_accuracy = svm_classifier.score(X_train, y_train)\n",
    "print(f\"\\nTraining accuracy: {train_accuracy:.4f}\")\n",
    "\n",
    "# Save the trained model\n",
    "model_path = \"../Dataset/svm_hog_classifier.joblib\"\n",
    "joblib.dump(svm_classifier, model_path)\n",
    "print(f\"\\nModel saved to: {model_path}\")\n",
    "\n",
    "# Print model parameters\n",
    "print(\"\\nModel parameters:\")\n",
    "print(f\"C (regularization parameter): {svm_classifier.C}\")\n",
    "print(f\"Number of features: {svm_classifier.n_features_in_}\")\n",
    "print(f\"Number of classes: {len(svm_classifier.classes_)}\")"
   ]
  },
  {
   "cell_type": "markdown",
   "metadata": {},
   "source": [
    "### Performance"
   ]
  },
  {
   "cell_type": "code",
   "execution_count": 21,
   "metadata": {},
   "outputs": [
    {
     "name": "stdout",
     "output_type": "stream",
     "text": [
      "Loading and processing test images...\n",
      "Extracting HOG features from test images...\n",
      "\n",
      "Test set size: 200 images\n",
      "Human test samples: 100\n",
      "Non-human test samples: 100\n",
      "\n",
      "Classification Error: 0.0300\n"
     ]
    },
    {
     "data": {
      "text/plain": [
       "<Figure size 800x600 with 0 Axes>"
      ]
     },
     "metadata": {},
     "output_type": "display_data"
    },
    {
     "data": {
      "image/png": "[encoded data removed]",
      "text/plain": [
       "<Figure size 640x480 with 2 Axes>"
      ]
     },
     "metadata": {},
     "output_type": "display_data"
    },
    {
     "data": {
      "image/png": "[encoded data removed]",
      "text/plain": [
       "<Figure size 800x600 with 1 Axes>"
      ]
     },
     "metadata": {},
     "output_type": "display_data"
    },
    {
     "name": "stdout",
     "output_type": "stream",
     "text": [
      "\n",
      "Classification Report:\n"
     ]
    },
    {
     "ename": "NameError",
     "evalue": "name 'classification_report' is not defined",
     "output_type": "error",
     "traceback": [
      "\u001b[0;31m---------------------------------------------------------------------------\u001b[0m",
      "\u001b[0;31mNameError\u001b[0m                                 Traceback (most recent call last)",
      "Cell \u001b[0;32mIn[21], line 65\u001b[0m\n\u001b[1;32m     63\u001b[0m \u001b[38;5;66;03m# Print detailed classification report\u001b[39;00m\n\u001b[1;32m     64\u001b[0m \u001b[38;5;28mprint\u001b[39m(\u001b[38;5;124m\"\u001b[39m\u001b[38;5;130;01m\\n\u001b[39;00m\u001b[38;5;124mClassification Report:\u001b[39m\u001b[38;5;124m\"\u001b[39m)\n\u001b[0;32m---> 65\u001b[0m \u001b[38;5;28mprint\u001b[39m(classification_report(y_test, y_pred, target_names\u001b[38;5;241m=\u001b[39m[\u001b[38;5;124m'\u001b[39m\u001b[38;5;124mNon-Human\u001b[39m\u001b[38;5;124m'\u001b[39m, \u001b[38;5;124m'\u001b[39m\u001b[38;5;124mHuman\u001b[39m\u001b[38;5;124m'\u001b[39m]))\n",
      "\u001b[0;31mNameError\u001b[0m: name 'classification_report' is not defined"
     ]
    }
   ],
   "source": [
    "\n",
    "# Set random seed for reproducibility\n",
    "random.seed(42)\n",
    "\n",
    "# Load the trained model\n",
    "svm_classifier = joblib.load(\"../Dataset/svm_hog_classifier.joblib\")\n",
    "\n",
    "# Load test images and extract features\n",
    "print(\"Loading and processing test images...\")\n",
    "human_test_path = Path(\"../Dataset/human_testing\")\n",
    "non_human_test_path = Path(\"../Dataset/non_human_v2_test\")\n",
    "\n",
    "# Get all test images and randomly select 100 from each class\n",
    "human_test_images = list(human_test_path.glob(\"*\"))\n",
    "non_human_test_images = list(non_human_test_path.glob(\"*\"))\n",
    "\n",
    "selected_human_test = random.sample(human_test_images, min(100, len(human_test_images)))\n",
    "selected_non_human_test = random.sample(non_human_test_images, min(100, len(non_human_test_images)))\n",
    "\n",
    "# Extract HOG features for test set\n",
    "print(\"Extracting HOG features from test images...\")\n",
    "human_test_features = load_and_extract_hog_features(selected_human_test, compute_hog)\n",
    "non_human_test_features = load_and_extract_hog_features(selected_non_human_test, compute_hog)\n",
    "\n",
    "# Combine test features and create labels\n",
    "X_test = np.vstack([human_test_features, non_human_test_features])\n",
    "y_test = np.concatenate([np.ones(len(human_test_features)), np.zeros(len(non_human_test_features))])\n",
    "\n",
    "print(f\"\\nTest set size: {len(X_test)} images\")\n",
    "print(f\"Human test samples: {len(human_test_features)}\")\n",
    "print(f\"Non-human test samples: {len(non_human_test_features)}\")\n",
    "\n",
    "# Make predictions\n",
    "y_pred = svm_classifier.predict(X_test)\n",
    "y_score = svm_classifier.decision_function(X_test)\n",
    "\n",
    "# Calculate classification error\n",
    "classification_error = 1 - svm_classifier.score(X_test, y_test)\n",
    "print(f\"\\nClassification Error: {classification_error:.4f}\")\n",
    "\n",
    "# Generate and plot confusion matrix\n",
    "cm = confusion_matrix(y_test, y_pred)\n",
    "plt.figure(figsize=(8, 6))\n",
    "disp = ConfusionMatrixDisplay(confusion_matrix=cm, display_labels=['Non-Human', 'Human'])\n",
    "disp.plot(cmap='Blues')\n",
    "plt.title('Confusion Matrix')\n",
    "plt.show()\n",
    "\n",
    "# Generate and plot ROC curve\n",
    "fpr, tpr, _ = roc_curve(y_test, y_score)\n",
    "roc_auc = auc(fpr, tpr)\n",
    "\n",
    "plt.figure(figsize=(8, 6))\n",
    "plt.plot(fpr, tpr, color='darkorange', lw=2, label=f'ROC curve (AUC = {roc_auc:.2f})')\n",
    "plt.plot([0, 1], [0, 1], color='navy', lw=2, linestyle='--')\n",
    "plt.xlim([0.0, 1.0])\n",
    "plt.ylim([0.0, 1.05])\n",
    "plt.xlabel('False Positive Rate')\n",
    "plt.ylabel('True Positive Rate')\n",
    "plt.title('Receiver Operating Characteristic (ROC) Curve')\n",
    "plt.legend(loc=\"lower right\")\n",
    "plt.show()\n",
    "\n",
    "# Print detailed classification report\n",
    "print(\"\\nClassification Report:\")\n",
    "print(classification_report(y_test, y_pred, target_names=['Non-Human', 'Human']))"
   ]
  }
 ],
 "metadata": {
  "kernelspec": {
   "display_name": "base",
   "language": "python",
   "name": "python3"
  },
  "language_info": {
   "codemirror_mode": {
    "name": "ipython",
    "version": 3
   },
   "file_extension": ".py",
   "mimetype": "text/x-python",
   "name": "python",
   "nbconvert_exporter": "python",
   "pygments_lexer": "ipython3",
   "version": "3.12.2"
  }
 },
 "nbformat": 4,
 "nbformat_minor": 2
}
